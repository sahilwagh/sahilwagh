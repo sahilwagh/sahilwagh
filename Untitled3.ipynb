{
  "nbformat": 4,
  "nbformat_minor": 0,
  "metadata": {
    "colab": {
      "name": "Untitled3.ipynb",
      "provenance": [],
      "authorship_tag": "ABX9TyO/VmPLb5N59X7ae7fnVPo6",
      "include_colab_link": true
    },
    "kernelspec": {
      "name": "python3",
      "display_name": "Python 3"
    },
    "language_info": {
      "name": "python"
    }
  },
  "cells": [
    {
      "cell_type": "markdown",
      "metadata": {
        "id": "view-in-github",
        "colab_type": "text"
      },
      "source": [
        "<a href=\"https://colab.research.google.com/github/sahilwagh/sahilwagh/blob/assignment1/Untitled3.ipynb\" target=\"_parent\"><img src=\"https://colab.research.google.com/assets/colab-badge.svg\" alt=\"Open In Colab\"/></a>"
      ]
    },
    {
      "cell_type": "code",
      "metadata": {
        "colab": {
          "base_uri": "https://localhost:8080/",
          "height": 279
        },
        "id": "okTNOacjs7nw",
        "outputId": "fd364e84-8374-430a-8933-6d847195e377"
      },
      "source": [
        "import matplotlib.pyplot as plt\n",
        "import numpy as np\n",
        "import random\n",
        "\n",
        "def first(array,i,j): \n",
        "    ffirsts= []\n",
        "    firsts = [(i+1,j-1),(i+1,j),(i+1,j+1),(i-1,j-1),(i-1,j),(i-1,j+1),(i,j-1),(i,j+1)]\n",
        "    for neighbour in firsts:\n",
        "        if neighbour[0]>=0 and neighbour[0]<100 and neighbour[1]>=0 and neighbour[1]<50:\n",
        "            ffirsts.append(neighbour)\n",
        "\n",
        "    for neighbour in ffirsts:\n",
        "        if random.randint(1,1000)<=250 and array[neighbour[0], neighbour[1]]==0:\n",
        "          array[neighbour[0], neighbour[1]] = 1        \n",
        "         \n",
        "\n",
        "def swap(a):\n",
        "  x = []\n",
        "  y = []\n",
        "  while len(x) <=8:\n",
        "        x1 = random.randint(0,99)\n",
        "        if x1 not in x:\n",
        "            x.append(x1)\n",
        "  while len(y) <=8:\n",
        "        y1 = random.randint(0,49)\n",
        "        if y1 not in y:\n",
        "            y.append(y1)   \n",
        "\n",
        "  for k in range(4):\n",
        "      a[x[4+k],y[4+k]],a[x[k],y[k]]=a[x[k],y[k]],a[x[4+k],y[4+k]]\n",
        "        \n",
        "main= np.zeros((100, 50),int)             \n",
        "main[50,25] = 1 \n",
        "main[25,19]=1                                     \n",
        "howmany1total= [2]\n",
        "one = []\n",
        "iteration=[0]\n",
        "c=0\n",
        "\n",
        "while howmany1total[-1]!=5000:\n",
        "    swap(main)\n",
        "    for i in range(100):\n",
        "        for j in range(50):\n",
        "            if main[i,j] == 1:\n",
        "                one.append((i,j))\n",
        "                c=c+1\n",
        "    iteration.append(c)\n",
        "    for num in one:\n",
        "        first(main,num[0],num[1])\n",
        "    howmany1total.append(len(set(one)))\n",
        "   \n",
        "y1 = howmany1total\n",
        "z1=iteration\n",
        "plt.plot(z1,y1, color='red')\n",
        "plt.xlabel('No. of iterations')\n",
        "plt.ylabel('No. of ones in the matrix')\n",
        "plt.show()\n",
        "\n"
      ],
      "execution_count": 4,
      "outputs": [
        {
          "output_type": "display_data",
          "data": {
            "image/png": "[encoded data removed]",
            "text/plain": [
              "<Figure size 432x288 with 1 Axes>"
            ]
          },
          "metadata": {
            "tags": [],
            "needs_background": "light"
          }
        }
      ]
    }
  ]
}