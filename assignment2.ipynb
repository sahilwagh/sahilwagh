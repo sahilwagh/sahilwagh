{
  "nbformat": 4,
  "nbformat_minor": 5,
  "metadata": {
    "kernelspec": {
      "display_name": "Python 3",
      "language": "python",
      "name": "python3"
    },
    "language_info": {
      "codemirror_mode": {
        "name": "ipython",
        "version": 3
      },
      "file_extension": ".py",
      "mimetype": "text/x-python",
      "name": "python",
      "nbconvert_exporter": "python",
      "pygments_lexer": "ipython3",
      "version": "3.9.1"
    },
    "colab": {
      "name": "Python_basics_and_github.ipynb",
      "provenance": [],
      "include_colab_link": true
    }
  },
  "cells": [
    {
      "cell_type": "markdown",
      "metadata": {
        "id": "view-in-github",
        "colab_type": "text"
      },
      "source": [
        "<a href=\"https://colab.research.google.com/github/sahilwagh/sahilwagh/blob/main/assignment2.ipynb\" target=\"_parent\"><img src=\"https://colab.research.google.com/assets/colab-badge.svg\" alt=\"Open In Colab\"/></a>"
      ]
    },
    {
      "cell_type": "markdown",
      "metadata": {
        "id": "miniature-capability"
      },
      "source": [
        "I hope by now, you have installed Python and Jupyter Notebook and now know some basic shorcuts to work with it, if not look at the documentation-https://jupyter-notebook.readthedocs.io/en/stable/. \n",
        "\n",
        "We will next look at version controlling and some hands on tasks on python. For version controlling we will use a free open-source version control software Git. "
      ],
      "id": "miniature-capability"
    },
    {
      "cell_type": "markdown",
      "metadata": {
        "id": "controversial-cinema"
      },
      "source": [
        "To install git follow https://git-scm.com/book/en/v2/Getting-Started-Installing-Git. After that create an account on Github which is a version control platform that uses git."
      ],
      "id": "controversial-cinema"
    },
    {
      "cell_type": "markdown",
      "metadata": {
        "id": "subjective-integrity"
      },
      "source": [
        "After you are done, fire your terminal and setup git on your local system. \n",
        "```\n",
        "git config --global user.name \"John Doe\"\n",
        "git config --global user.email johndoe@example.com\n",
        "```\n",
        "\n"
      ],
      "id": "subjective-integrity"
    },
    {
      "cell_type": "markdown",
      "metadata": {
        "id": "technological-technical"
      },
      "source": [
        "Now go to Github and create a repository. Get that repository to your local system. Hint- search ```git clone``` and learn about it. After creating a repository and cloning it into your local system, we will commit and push this file into the repository. So move this notebook to the cloned repo and then search how to commit and push into github repository. \n",
        "\n",
        "```Hint : git add, git status, git commit, git push will be helpful```\n"
      ],
      "id": "technological-technical"
    },
    {
      "cell_type": "markdown",
      "metadata": {
        "id": "statutory-synthesis"
      },
      "source": [
        "Let's get started. So this assignment is a basic assignment on Python3.0 and some basic libraries. Import all the required libraries in the cell below this."
      ],
      "id": "statutory-synthesis"
    },
    {
      "cell_type": "code",
      "metadata": {
        "id": "minute-young"
      },
      "source": [
        "import numpy as np                #np for convinience \n",
        "import matplotlib.pyplot as plt   #plt for convinience\n",
        "import PIL\n",
        "import random\n",
        "import re\n",
        "import pandas as pd               #pd for convinience\n",
        "import time"
      ],
      "id": "minute-young",
      "execution_count": null,
      "outputs": []
    },
    {
      "cell_type": "markdown",
      "metadata": {
        "id": "ethical-residence"
      },
      "source": [
        "Your first task is very simple. Create a string to store your name and then append your favorite number to it. If you don't know how to get started with python basic commands, search for w3school python tutorial and have a look at them."
      ],
      "id": "ethical-residence"
    },
    {
      "cell_type": "code",
      "metadata": {
        "id": "frank-mouth"
      },
      "source": [
        "name= \"sahilwagh\"\n",
        "name=name+ str(19)"
      ],
      "id": "frank-mouth",
      "execution_count": null,
      "outputs": []
    },
    {
      "cell_type": "markdown",
      "metadata": {
        "id": "analyzed-rescue"
      },
      "source": [
        "Implement a python function Mult(X,Y) that takes input 2 matrices X and Y and calculates their product (Use brute force looping method)."
      ],
      "id": "analyzed-rescue"
    },
    {
      "cell_type": "code",
      "metadata": {
        "id": "romance-malta"
      },
      "source": [
        "def mult(x,y):\n",
        "  a=x.shape\n",
        "  b=np.zeros(a[0],a[1])\n",
        "  for i in range(a[0]):\n",
        "    for j in range(a[1]):\n",
        "      b[i,j]=x[i,j]*y[i,j]\n",
        "       \n",
        "  return b\n"
      ],
      "id": "romance-malta",
      "execution_count": null,
      "outputs": []
    },
    {
      "cell_type": "markdown",
      "metadata": {
        "id": "encouraging-curtis"
      },
      "source": [
        "Create a square matrix of size 100X100 with random values from 0 to 1 using numpy(you have to import numpy at this stage) and multiply it with itself with the help of Mult(X,Y) function. Use time module to measure how long the multiplication takes. If you are stuck and don't know how to use and install new library/module Google about it."
      ],
      "id": "encouraging-curtis"
    },
    {
      "cell_type": "code",
      "metadata": {
        "id": "higher-baseball",
        "colab": {
          "base_uri": "https://localhost:8080/"
        },
        "outputId": "c420d26c-083d-4934-d671-a1fcd18340a3"
      },
      "source": [
        "import numpy as np\n",
        "import time\n",
        "def mult(x,y):\n",
        "  a=x.shape\n",
        "  b=np.zeros((a[0],a[1]),float)\n",
        "  for i in range(a[0]):\n",
        "    for j in range(a[1]):\n",
        "      b[i,j]=x[i,j]*y[i,j]\n",
        "       \n",
        "  return b\n",
        "x=np.linspace(0,1,10000).reshape(100,100)\n",
        "y=np.linspace(0,1,10000).reshape(100,100)\n",
        "start=time.time()\n",
        "print(mult(x,y))\n",
        "end=time.time()\n",
        "print(f\"time taken {end-start}\")"
      ],
      "id": "higher-baseball",
      "execution_count": 5,
      "outputs": [
        {
          "output_type": "stream",
          "text": [
            "[[0.00000000e+00 1.00020003e-08 4.00080012e-08 ... 9.41088208e-05\n",
            "  9.60592109e-05 9.80296049e-05]\n",
            " [1.00020003e-04 1.02030405e-04 1.04060811e-04 ... 3.88167630e-04\n",
            "  3.92118420e-04 3.96089214e-04]\n",
            " [4.00080012e-04 4.04090814e-04 4.08121620e-04 ... 8.82266444e-04\n",
            "  8.88217635e-04 8.94188829e-04]\n",
            " ...\n",
            " [9.41088208e-01 9.41282257e-01 9.41476326e-01 ... 9.60004081e-01\n",
            "  9.60200070e-01 9.60396080e-01]\n",
            " [9.60592109e-01 9.60788158e-01 9.60984227e-01 ... 9.79702021e-01\n",
            "  9.79900010e-01 9.80098020e-01]\n",
            " [9.80296049e-01 9.80494099e-01 9.80692169e-01 ... 9.99600000e-01\n",
            "  9.99799990e-01 1.00000000e+00]]\n",
            "time taken 0.007762908935546875\n"
          ],
          "name": "stdout"
        }
      ]
    },
    {
      "cell_type": "markdown",
      "metadata": {
        "id": "controversial-henry"
      },
      "source": [
        "Now search how to multiply two numpy arrays using a numpy utility function. dot() will be helpful. Similary measure the time that numpy takes to make this multiplication and compare it with above. "
      ],
      "id": "controversial-henry"
    },
    {
      "cell_type": "code",
      "metadata": {
        "id": "sporting-purple",
        "colab": {
          "base_uri": "https://localhost:8080/"
        },
        "outputId": "37970c4e-a615-4cee-f829-a11ea56815f7"
      },
      "source": [
        "import numpy as np\n",
        "import time\n",
        "a=np.linspace(0,1,10000).reshape(100,100)\n",
        "b=np.linspace(0,1,10000).reshape(100,100)\n",
        "start=time.time()\n",
        "c=np.dot(a,b)\n",
        "end=time.time()\n",
        "print(c)\n",
        "print(f\"time taken { end-start} \")\n"
      ],
      "id": "sporting-purple",
      "execution_count": 6,
      "outputs": [
        {
          "output_type": "stream",
          "text": [
            "time taken 0.005270719528198242 \n"
          ],
          "name": "stdout"
        }
      ]
    },
    {
      "cell_type": "markdown",
      "metadata": {
        "id": "ranging-department"
      },
      "source": [
        "It's now time to save and make a commit, similar to above and push the current state to github. Again same set of commands.\n",
        "\n",
        "Now you want to use your roll number instead of your name in the very first task. Go ahead and do it and make a commit, don't push it this time. Now you think that your identity should not be limited to a number, so you want to again revert back, but you want to do so without changing the code. Git has your back here. Google how to rever a commit and go back to your initial state. Hint- https://opensource.com/article/18/6/git-reset-revert-rebase-commands\n"
      ],
      "id": "ranging-department"
    },
    {
      "cell_type": "markdown",
      "metadata": {
        "id": "outer-alabama"
      },
      "source": [
        "Let's march ahead with python. We will use import an image(you can use any image, get it to your directory and start working). Google how to import an image in python(Search about OpenCV/PIL library). Convert the image into grayscale and show the image.(to show you can use cv2 and also you can use matplotlib, Google both the methods)"
      ],
      "id": "outer-alabama"
    },
    {
      "cell_type": "code",
      "metadata": {
        "id": "noble-scout",
        "colab": {
          "resources": {
            "http://localhost:8080/nbextensions/google.colab/files.js": {
              "data": "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",
              "ok": true,
              "headers": [
                [
                  "content-type",
                  "application/javascript"
                ]
              ],
              "status": 200,
              "status_text": ""
            }
          },
          "base_uri": "https://localhost:8080/",
          "height": 73
        },
        "outputId": "492b550d-7bc4-4bfc-9a66-b9d6a69ab54d"
      },
      "source": [
        "from google.colab import files\n",
        "from IPython.display import Image\n",
        "uploaded= files.upload()\n"
      ],
      "id": "noble-scout",
      "execution_count": 7,
      "outputs": [
        {
          "output_type": "display_data",
          "data": {
            "text/html": [
              "\n",
              "     <input type=\"file\" id=\"files-aa1a67a5-911f-434b-81c6-69edb1b8e100\" name=\"files[]\" multiple disabled\n",
              "        style=\"border:none\" />\n",
              "     <output id=\"result-aa1a67a5-911f-434b-81c6-69edb1b8e100\">\n",
              "      Upload widget is only available when the cell has been executed in the\n",
              "      current browser session. Please rerun this cell to enable.\n",
              "      </output>\n",
              "      <script src=\"/nbextensions/google.colab/files.js\"></script> "
            ],
            "text/plain": [
              "<IPython.core.display.HTML object>"
            ]
          },
          "metadata": {
            "tags": []
          }
        },
        {
          "output_type": "stream",
          "text": [
            "Saving duckling.jpeg to duckling.jpeg\n"
          ],
          "name": "stdout"
        }
      ]
    },
    {
      "cell_type": "code",
      "metadata": {
        "id": "JQGb1NHuRj7W"
      },
      "source": [
        "from PIL import Image\n",
        "img = Image.open('duckling.jpeg').convert('LA')\n",
        "img.save('greyscale.png')\n",
        "img.show()"
      ],
      "id": "JQGb1NHuRj7W",
      "execution_count": 10,
      "outputs": []
    },
    {
      "cell_type": "markdown",
      "metadata": {
        "id": "supported-motivation"
      },
      "source": [
        "Now we will see git branching in action. So basically let's say you and your friend are working on the same project. One utility git provides that you both can independently work without affecting each other. To do so we create branches. So now create a new branch with branchname as your name and checkout to that branch. Hint - ```git branch``` (I am once again asking you to Google xD) Search about other options for git branch. Now whatever you will implement will be done in your branch and won't affect the entire application."
      ],
      "id": "supported-motivation"
    },
    {
      "cell_type": "markdown",
      "metadata": {
        "id": "monthly-window"
      },
      "source": [
        "So let's do something in your branch. Now crop the image into a new image, to get a new image which is 1/4th the size of the original image.(keep only the topleft portion). Apply a gaussian blur on the cropped image and again print the image to see the effects.\n"
      ],
      "id": "monthly-window"
    },
    {
      "cell_type": "code",
      "metadata": {
        "id": "alone-frederick"
      },
      "source": [
        "from PIL import Image\n",
        "im=Image.open('duckling.jpeg').convert('LA')\n",
        "width, height = im.size\n",
        "im1=im.crop((width/2,height,width,height/2))\n",
        "im1.show()"
      ],
      "id": "alone-frederick",
      "execution_count": 19,
      "outputs": []
    },
    {
      "cell_type": "markdown",
      "metadata": {
        "id": "sixth-television"
      },
      "source": [
        "Now calculate the mean and median pixel values of the cropped image. Numpy will come in handy. Now we will do histogramming of the pixels. Search about calcHist function from cv2 library to build the histogram. Now plot the histogram using matplotlib library (don't forget to import it xP)"
      ],
      "id": "sixth-television"
    },
    {
      "cell_type": "code",
      "metadata": {
        "id": "heavy-bulgaria"
      },
      "source": [
        "#your code here"
      ],
      "id": "heavy-bulgaria",
      "execution_count": null,
      "outputs": []
    },
    {
      "cell_type": "markdown",
      "metadata": {
        "id": "danish-swift"
      },
      "source": [
        "So now you have completed working on your cropped Image. That brings you back to commit and push. So here you have to push from your branch only, because you have committed on that branch. Google how to do that. "
      ],
      "id": "danish-swift"
    },
    {
      "cell_type": "markdown",
      "metadata": {
        "id": "attached-batch"
      },
      "source": [
        "Impressed with your work, you finally decided that your work on your branch should be there on the main project(which is the main branch). So you want to merge your branch to main branch. Google how to do that. ```Hint - git merge```. Here do find out about merge conflicts(beleive me you don't want them). Again a merge command is itself a commit, so you have to again push it to github. Now finally we are in the main branch. You can use another utility command ```git log``` to see your entire commit history."
      ],
      "id": "attached-batch"
    },
    {
      "cell_type": "markdown",
      "metadata": {
        "id": "allied-asthma"
      },
      "source": [
        "Let's now do some so called \"cool\" stuff with the image to realise the chadness of python libraries. In the original image(not the cropped one) we will do edge detection(we will use canny edge detection method which is a common method). Surprisingly openCV handles it very easily. To know how - https://docs.opencv.org/master/da/d22/tutorial_py_canny.html ."
      ],
      "id": "allied-asthma"
    },
    {
      "cell_type": "code",
      "metadata": {
        "id": "intellectual-patio"
      },
      "source": [
        "#your code here"
      ],
      "id": "intellectual-patio",
      "execution_count": null,
      "outputs": []
    },
    {
      "cell_type": "markdown",
      "metadata": {
        "id": "lesser-somewhere"
      },
      "source": [
        "It's done ? Not yet. This exercise was just to get you familiar with python libraries and give an introduction to python. There are literally infite number of utility libraries and functions that have been built for python users. You can even publish your own library for the open-source community(how? - https://realpython.com/pypi-publish-python-package/). But one flaw of python is that it is still quite slow, Julia is an upcoming similar nascent language which performs better with this regard, do Google about it)"
      ],
      "id": "lesser-somewhere"
    },
    {
      "cell_type": "markdown",
      "metadata": {
        "id": "weighted-omega"
      },
      "source": [
        "NOTE - IF YOU HAVE ANY DOUBTS REGARDING ASSIGNMENTS/COURSES, FEEL FREE TO ASK/HELP YOUR COMENTEES (preferably) AND MENTORS. WE WOULD LOVE TO WORK IN A COLLABORATIVE WAY."
      ],
      "id": "weighted-omega"
    }
  ]
}